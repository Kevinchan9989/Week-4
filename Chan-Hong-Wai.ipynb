{
 "cells": [
  {
   "cell_type": "code",
   "execution_count": 1,
   "id": "e49b85f8",
   "metadata": {},
   "outputs": [
    {
     "data": {
      "text/plain": [
       "True"
      ]
     },
     "execution_count": 1,
     "metadata": {},
     "output_type": "execute_result"
    }
   ],
   "source": [
    "import sys\n",
    "sys.path.append('/users/utar/appdata/roaming/python/python310/site-packages')\n",
    "# Python 3.7 is required\n",
    "assert sys.version_info >= (3,7)\n",
    "\n",
    "import cv2 as cv\n",
    "import numpy as np\n",
    "\n",
    "# For reproducibility,\n",
    "np.random.seed(99)\n",
    "\n",
    "# Make sure that optimization is enabled\n",
    "if not cv.useOptimized():\n",
    "    cv.setUseOptimized(True)\n",
    "\n",
    "cv.useOptimized()"
   ]
  },
  {
   "cell_type": "code",
   "execution_count": 2,
   "id": "8aabcf6d",
   "metadata": {},
   "outputs": [],
   "source": [
    "import cv2 as cv\n",
    "import numpy as numpy"
   ]
  },
  {
   "cell_type": "code",
   "execution_count": 3,
   "id": "e08cb711",
   "metadata": {},
   "outputs": [],
   "source": [
    "## Question 1\n",
    "img1 = cv.imread('dog.jfif')\n",
    "img2 = cv.imread('dog.jfif', 0)\n",
    "\n",
    "cv.imshow('Color', img1)\n",
    "cv.imshow('Grayscale', img2)\n",
    "cv.waitKey(0)\n",
    "cv.destroyAllWindows()"
   ]
  },
  {
   "cell_type": "code",
   "execution_count": 5,
   "id": "2e1dec5e",
   "metadata": {},
   "outputs": [],
   "source": [
    "## Question 1.2\n",
    "img = cv.imread('dog.jfif')\n",
    "gs = cv.cvtColor(img, cv.COLOR_BGR2GRAY)\n",
    "\n",
    "cv.imshow('Color', img)\n",
    "cv.imshow('Grayscale', gs)\n",
    "cv.waitKey(0)\n",
    "cv.destroyAllWindows()"
   ]
  },
  {
   "cell_type": "code",
   "execution_count": 16,
   "id": "198e02fd",
   "metadata": {},
   "outputs": [],
   "source": [
    "## Question 2\n",
    "cap = cv.VideoCapture('img_pexels.mp4')\n",
    "\n",
    "w = int(cap.get(3))\n",
    "h = int(cap.get(4))\n",
    "out = cv.VideoWriter('smaller_img_pexels2.mp4', cv.VideoWriter_fourcc(*'MP4V'), 20, (w, h))\n",
    "\n",
    "if not cap.isOpened():\n",
    "    print(\"Unable to create video\")\n",
    "\n",
    "while cap.isOpened():\n",
    "    ret, frame = cap.read()    \n",
    "    if not ret:\n",
    "        print(\"Can't receive frame.\")\n",
    "        break\n",
    "    \n",
    "    ## Resize the frame with a factor of 0.5\n",
    "    frame = cv.resize(frame, None, fx=0.5, fy=0.5, interpolation=cv.INTER_LINEAR)\n",
    "    \n",
    "    ## Write the frame into the smaller_img_pexels file\n",
    "    out.write(frame)\n",
    "    \n",
    "    ##Show the frame\n",
    "    cv.imshow('frame', frame)\n",
    "    if cv.waitKey(1) & 0xFF == 27:\n",
    "        break\n",
    "        \n",
    "cap.release()\n",
    "out.release()\n",
    "cv.destroyAllWindows()\n"
   ]
  },
  {
   "cell_type": "code",
   "execution_count": 18,
   "id": "bdcd260c",
   "metadata": {},
   "outputs": [],
   "source": [
    "## Question 3\n",
    "randomimg = np.random.random([500,500])\n",
    "cv.imshow('Random noise and Grayscale image', randomimg)\n",
    "cv.waitKey(0)\n",
    "cv.destroyAllWindows()"
   ]
  }
 ],
 "metadata": {
  "kernelspec": {
   "display_name": "Python 3 (ipykernel)",
   "language": "python",
   "name": "python3"
  },
  "language_info": {
   "codemirror_mode": {
    "name": "ipython",
    "version": 3
   },
   "file_extension": ".py",
   "mimetype": "text/x-python",
   "name": "python",
   "nbconvert_exporter": "python",
   "pygments_lexer": "ipython3",
   "version": "3.9.12"
  }
 },
 "nbformat": 4,
 "nbformat_minor": 5
}
